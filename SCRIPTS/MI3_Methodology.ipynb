{
 "cells": [
  {
   "cell_type": "code",
   "execution_count": 68,
   "metadata": {
    "id": "lEcGMCVOMLWT"
   },
   "outputs": [],
   "source": [
    "import pandas as pd\n",
    "import numpy as np\n",
    "import matplotlib.pyplot as plt\n",
    "import seaborn as sns\n",
    "import json\n",
    "import re"
   ]
  },
  {
   "cell_type": "code",
   "execution_count": 70,
   "metadata": {
    "colab": {
     "base_uri": "https://localhost:8080/"
    },
    "id": "SrDPS3nANUOP",
    "outputId": "26d61d48-a881-452a-bb7e-9f0d56b2f61e"
   },
   "outputs": [
    {
     "name": "stdout",
     "output_type": "stream",
     "text": [
      "All expected columns are present\n"
     ]
    }
   ],
   "source": [
    "# loading the data and doing a sanity check to make sure all necessary columns are present\n",
    "branded_df = pd.read_csv(\"../DATA/processed/branded_food_clean.csv\")\n",
    "branded_df = branded_df.head(1000)\n",
    "\n",
    "expected_cols = {'fdc_id', 'product_name', 'ingredients_list_json', 'num_ingredients'}\n",
    "\n",
    "missing_cols = expected_cols - set(branded_df.columns)\n",
    "\n",
    "if missing_cols:\n",
    "  print(f\"Missing columns: {missing_cols}\")\n",
    "else:\n",
    "  print(\"All expected columns are present\")"
   ]
  },
  {
   "cell_type": "code",
   "execution_count": 71,
   "metadata": {
    "id": "syS3Vq4sxDTx"
   },
   "outputs": [],
   "source": [
    "def parse_json(json_record):\n",
    "  if pd.isna(json_record):\n",
    "    return []\n",
    "\n",
    "  record =  str(json_record).strip()\n",
    "\n",
    "  if record.startswith('[') and record.endswith(']'):\n",
    "    try:\n",
    "            items = json.loads(record)\n",
    "    except Exception:\n",
    "            items = record.split(',')\n",
    "\n",
    "  else:\n",
    "    items = record.split(',')\n",
    "\n",
    "  norm = []\n",
    "  for it in items:\n",
    "        tok = re.sub(r\"^ingredients\\s*:\\s*\", \"\", str(it), flags=re.IGNORECASE).strip().lower()\n",
    "        # remove 'made from...' or 'made with...' and everything after it\n",
    "        tok = re.sub(r\"\\bmade\\s+(from|with)\\b.*\", \"\", tok).strip()\n",
    "        # keep only letters, digits, %, spaces, and hyphens\n",
    "        tok = re.sub(r\"[^a-z0-9%\\s\\-]\", \" \", tok)\n",
    "        tok = re.sub(r\"\\s+\", \" \", tok).strip()\n",
    "        if tok:\n",
    "            norm.append(tok)\n",
    "  return norm\n",
    "\n",
    "branded_df['ingredients_list'] = branded_df['ingredients_list_json'].apply(parse_json)\n"
   ]
  },
  {
   "cell_type": "code",
   "execution_count": 72,
   "metadata": {
    "id": "DluQS7LPUibZ"
   },
   "outputs": [],
   "source": [
    "def rank_weight(rank, alpha = 0.6, scale = 1.0):\n",
    "  return scale / (rank ** alpha)\n",
    "\n",
    "def order_weight_tokens(ing_list, alpha=0.6, scale=6):\n",
    "    \"\"\"\n",
    "    Create a string where earlier ingredients are repeated more often.\n",
    "    alpha controls how quickly weight decays with rank.\n",
    "    scale controls how many repetitions the first ingredient gets.\n",
    "    \"\"\"\n",
    "    bag = []\n",
    "    for rank, item in enumerate(ing_list, start=1):\n",
    "        weight = 1 / (rank ** alpha)  # position decay\n",
    "        reps = max(1, int(weight * scale))  # repeat token\n",
    "        bag.extend([item] * reps)\n",
    "    return \" , \".join(bag)\n",
    "\n",
    "branded_df['ordered_text'] = branded_df['ingredients_list'].apply(order_weight_tokens)\n",
    "\n",
    "\n",
    "def lf_any(tokens, pattern, base_weight=1.0, alpha=0.6):\n",
    "    pat = re.compile(pattern)\n",
    "    score = 0.0\n",
    "    for i, t in enumerate(tokens, start=1):\n",
    "        if pat.search(t):\n",
    "            score += base_weight * rank_weight(i, alpha=alpha)\n",
    "    return score\n",
    "\n",
    "LFs_negative = {\n",
    "    # Colors / dyes (incl. Red No. 3)\n",
    "    \"artificial_colors\": (r\"\\b(red\\s*0*3|red\\s*no\\.?\\s*3|red\\s*3|yellow\\s*5|yellow\\s*6|blue\\s*1|artificial color|artificial colours?)\\b\", 1.2),\n",
    "    # Titanium dioxide\n",
    "    \"titanium_dioxide\": (r\"\\btitanium\\s+dioxide\\b\", 1.5),\n",
    "    # Potassium bromate\n",
    "    \"potassium_bromate\": (r\"\\bpotassium\\s+bromate\\b\", 1.6),\n",
    "    # Brominated vegetable oil\n",
    "    \"bvo\": (r\"\\bbrominated\\s+vegetable\\s+oil\\b\", 1.6),\n",
    "    # Parabens (incl. propylparaben)\n",
    "    \"parabens\": (r\"\\b(parabens?|propylparaben|methylparaben|butylparaben)\\b\", 1.2),\n",
    "    # High fructose / corn syrup / added sugars cluster\n",
    "    \"hfcs_syrups_sugars\": (r\"\\b(high\\s*fructose\\s*corn\\s*syrup|hfcs|corn\\s*syrup|glucose[-\\s]*fructose|invert\\s*sugar|sucrose|dextrose|fructose|glucose|molasses)\\b\", 1.4),\n",
    "    # Nitrites/nitrates\n",
    "    \"nitrites\": (r\"\\b(sodium|potassium)\\s+(nitrite|nitrate)s?\\b\", 1.3),\n",
    "    # TBHQ / BHA / BHT antioxidants\n",
    "    \"synthetic_antioxidants\": (r\"\\b(tbhq|tertiary\\s*butylhydroquinone|bha|butylated\\s*hydroxyanisole|bht|butylated\\s*hydroxytoluene)\\b\", 1.3),\n",
    "    # Artificial sweeteners\n",
    "    \"non_nutritive_sweeteners\": (r\"\\b(aspartame|acesulfame\\s*k?|acesulfamek|sucralose|saccharin|neotame|advantame)\\b\", 1.2),\n",
    "    # Hydrogenated/shortening (often avoided; reasonable to include)\n",
    "    \"hydrogenated_fats\": (r\"\\b(partially\\s+)?hydrogenated\\b|\\bshortening\\b\", 1.4),\n",
    "}\n",
    "\n",
    "def score_negative(tokens, alpha = 0.6):\n",
    "  s = 0.0\n",
    "  for _, (pat, w) in LFs_negative.items():\n",
    "      s += lf_any(tokens, pat, base_weight=w, alpha=alpha)\n",
    "  return s\n",
    "\n",
    "\n",
    "LFs_positive = {\n",
    "    \"whole_grain_first\": (r\"\\b(whole\\s+grain|whole[-\\s]*wheat|whole\\s*oats?|whole\\s*rye|whole\\s*barley)\\b\", 1.2),\n",
    "     \"fresh_produce\": (r\"\\b(\"\n",
    "                      r\"apple|apples|banana|bananas|berry|berries|blueberry|strawberry|raspberry|blackberry|\"\n",
    "                      r\"cherry|cherries|grape|grapes|melon|cantaloupe|honeydew|watermelon|mango|mangos|pineapple|pear|pears|\"\n",
    "                      r\"peach|peaches|plum|plums|kiwi|oranges?|clementine|tangerine|lemon|lime|\"\n",
    "                      r\"spinach|kale|lettuce|romaine|arugula|chard|collard|broccoli|cauliflower|cabbage|\"\n",
    "                      r\"carrot|carrots|celery|beet|beets|radish|radishes|turnip|turnips|\"\n",
    "                      r\"onion|onions|garlic|ginger|leek|shallot|scallion|\"\n",
    "                      r\"pepper|peppers|bell\\s*pepper|tomato|tomatoes|cucumber|zucchini|squash|\"\n",
    "                      r\"pumpkin|eggplant|brussels\\s*sprouts|asparagus|spinach\"\n",
    "                      r\")\\b\", 1.0),\n",
    "    \"protein\": (r\"\\b(\"\n",
    "                r\"protein|chicken|beef|pork|turkey|lamb|duck|salmon|tuna|cod|trout|shrimp|prawn|\"\n",
    "                r\"crab|lobster|fish|anchovy|sardine|mackerel|egg|eggs|egg\\s*white|egg\\s*yolk|\"\n",
    "                r\"tofu|tempeh|seitan|soy\\s*protein|pea\\s*protein|whey\\s*protein|casein\"\n",
    "                r\")\\b\", 1.0),\n",
    "    \"legumes\": (r\"\\b(\"\n",
    "                r\"lentil|lentils|chickpea|chickpeas|pea|peas|split\\s*peas|black\\s*eyed\\s*peas|\"\n",
    "                r\"legume|legumes\"\n",
    "                r\")\\b\", 0.8),\n",
    "    \"beans\": (r\"\\b(\"\n",
    "              r\"black\\s*bean|black\\s*beans|kidney\\s*bean|kidney\\s*beans|pinto\\s*bean|pinto\\s*beans|\"\n",
    "              r\"navy\\s*beans|white\\s*beans|cannellini|garbanzo|refried\\s*beans|soybeans?|edamame\"\n",
    "              r\")\\b\", 0.8),\n",
    "    \"nuts\": (r\"\\b(\"\n",
    "             r\"almond|almonds|walnut|walnuts|cashew|cashews|pecan|pecans|pistachio|pistachios|\"\n",
    "             r\"hazelnut|hazelnuts|macadamia|macadamias|brazil\\s*nuts?|chestnut|chestnuts\"\n",
    "             r\")\\b\", 0.8)\n",
    "}\n",
    "\n",
    "def score_positive(tokens, alpha = 0.6):\n",
    "  s = 0.0\n",
    "  for _, (pat, w) in LFs_positive.items():\n",
    "    s += lf_any(tokens, pat, base_weight=w, alpha=alpha)\n",
    "  return s\n",
    "\n",
    "def length_penalty(tokens, cutoff = 12, per_extra = 0.03):\n",
    "  extra = max(0, len(tokens) - cutoff)\n",
    "  return extra * per_extra\n"
   ]
  },
  {
   "cell_type": "code",
   "execution_count": 73,
   "metadata": {
    "colab": {
     "base_uri": "https://localhost:8080/"
    },
    "id": "KTgvBNDVqssN",
    "outputId": "24cb8f5a-a4d1-4879-e592-98844090e197"
   },
   "outputs": [
    {
     "name": "stdout",
     "output_type": "stream",
     "text": [
      "{'t_healthy': -0.7219577166193093, 't_unhealthy': 0.0}\n"
     ]
    }
   ],
   "source": [
    "def weak_score(tokens, alpha=0.6):\n",
    "  base = score_negative(tokens, alpha=alpha) - 0.9 * score_positive(tokens, alpha=alpha)\n",
    "  return base + length_penalty(tokens)\n",
    "\n",
    "\n",
    "def score_to_label(score, t_healthy = -0.5, t_unhealthy = -0.1):\n",
    "  if score < t_healthy:\n",
    "    return 'healthy'\n",
    "  elif score > t_unhealthy:\n",
    "    return 'unhealthy'\n",
    "  else:\n",
    "    return 'intermediate'\n",
    "\n",
    "def apply_snorkel_labels(df, ing_col=\"ingredients_list\", alpha=0.6,\n",
    "                         t_healthy=None, t_unhealthy=None, use_quantiles=True):\n",
    "    df = df.copy()\n",
    "    df[\"weak_score\"] = df[ing_col].apply(lambda lst: weak_score(lst, alpha=alpha))\n",
    "    if use_quantiles:\n",
    "        q_low, q_high = df[\"weak_score\"].quantile([0.33, 0.67])\n",
    "        t_healthy = q_low if t_healthy is None else t_healthy\n",
    "        t_unhealthy = q_high if t_unhealthy is None else t_unhealthy\n",
    "    elif t_healthy is None or t_unhealthy is None:\n",
    "        # sensible fallbacks\n",
    "        t_healthy, t_unhealthy = -0.4, 0.6\n",
    "    df[\"label\"] = df[\"weak_score\"].apply(lambda s: score_to_label(s, t_healthy, t_unhealthy))\n",
    "    return df, {\"t_healthy\": t_healthy, \"t_unhealthy\": t_unhealthy}\n",
    "\n",
    "\n",
    "labeled_df, thresholds = apply_snorkel_labels(branded_df, ing_col=\"ingredients_list\", alpha=0.6)\n",
    "print(thresholds)\n",
    "binary_df = labeled_df[labeled_df['label'] != 2].copy()"
   ]
  },
  {
   "cell_type": "code",
   "execution_count": 74,
   "metadata": {},
   "outputs": [
    {
     "name": "stdout",
     "output_type": "stream",
     "text": [
      "[tuning] best macro-F1=0.872 at t_healthy=-0.414, t_unhealthy=0.114\n"
     ]
    }
   ],
   "source": [
    "# Threshold Tuning\n",
    "from sklearn.model_selection import train_test_split\n",
    "from sklearn.pipeline import Pipeline\n",
    "from sklearn.feature_extraction.text import TfidfVectorizer\n",
    "from sklearn.linear_model import LogisticRegression\n",
    "from sklearn.metrics import f1_score\n",
    "import numpy as np\n",
    "\n",
    "import warnings\n",
    "from sklearn.exceptions import ConvergenceWarning\n",
    "\n",
    "def relabel(df, th, tu, alpha=0.6):\n",
    "    new_df, _ = apply_snorkel_labels(df, ing_col=\"ingredients_list\",\n",
    "                                     alpha=alpha, t_healthy=th, t_unhealthy=tu,\n",
    "                                     use_quantiles=False)\n",
    "    return new_df\n",
    "\n",
    "def quick_f1(df):\n",
    "    X = df[\"ordered_text\"].fillna(\"\").astype(str)\n",
    "    y = df[\"label\"].astype(str)\n",
    "    m = X.str.strip().str.len() > 0\n",
    "    X, y = X[m], y[m]\n",
    "    X_tr, X_va, y_tr, y_va = train_test_split(X, y, test_size=0.2, stratify=y, random_state=42)\n",
    "    pipe = Pipeline([\n",
    "        (\"tfidf\", TfidfVectorizer(ngram_range=(1,2), min_df=5, token_pattern=r\"(?u)\\b\\w+\\b\")),\n",
    "        (\"lr\", LogisticRegression(max_iter=2000, solver=\"saga\", class_weight=\"balanced\", n_jobs=-1)),\n",
    "    ])\n",
    "\n",
    "    # Ignore noisy warnings\n",
    "    with warnings.catch_warnings():\n",
    "        warnings.simplefilter(\"ignore\", ConvergenceWarning)\n",
    "        pipe.fit(X_tr, y_tr)\n",
    "        y_hat = pipe.predict(X_va)\n",
    "        \n",
    "    return f1_score(y_va, pipe.predict(X_va), average=\"macro\", zero_division=0)\n",
    "\n",
    "# small search (fast). tweak ranges if needed.\n",
    "best = (-1, None, None)\n",
    "for th in np.linspace(-1.2, -0.1, 8):   # t_healthy candidates\n",
    "    for tu in np.linspace(0.0, 0.8, 8): # t_unhealthy candidates\n",
    "        f1 = quick_f1(relabel(branded_df, th, tu, alpha=0.6))\n",
    "        if f1 > best[0]:\n",
    "            best = (f1, th, tu)\n",
    "\n",
    "print(f\"[tuning] best macro-F1={best[0]:.3f} at t_healthy={best[1]:.3f}, t_unhealthy={best[2]:.3f}\")\n",
    "\n",
    "# use the tuned thresholds for the rest of the notebook\n",
    "labeled_df, _ = apply_snorkel_labels(branded_df, ing_col=\"ingredients_list\",\n",
    "                                     alpha=0.6, t_healthy=best[1], t_unhealthy=best[2],\n",
    "                                     use_quantiles=False)\n"
   ]
  },
  {
   "cell_type": "code",
   "execution_count": 75,
   "metadata": {
    "colab": {
     "base_uri": "https://localhost:8080/"
    },
    "id": "9dSe-JjX3S7a",
    "outputId": "71d267a3-c76f-48e9-d544-5673e4cde85f"
   },
   "outputs": [
    {
     "name": "stdout",
     "output_type": "stream",
     "text": [
      "Class counts: {'intermediate': 416, 'healthy': 411, 'unhealthy': 173}\n"
     ]
    }
   ],
   "source": [
    "multi_df = labeled_df.copy()\n",
    "\n",
    "# features and labels\n",
    "X = multi_df[\"ordered_text\"].fillna(\"\")\n",
    "y = multi_df[\"label\"]   # {'healthy','intermediate','unhealthy'}\n",
    "\n",
    "mask = X.str.strip().str.len() > 0\n",
    "X, y = X[mask], y[mask]\n",
    "\n",
    "print(\"Class counts:\", y.value_counts().to_dict())\n",
    "\n",
    "# Split of three classes\n",
    "from sklearn.model_selection import train_test_split\n",
    "X_temp, X_test, y_temp, y_test = train_test_split(\n",
    "    X, y, test_size=0.15, stratify=y, random_state=42\n",
    ")\n",
    "rel_val = 0.15 / 0.85\n",
    "X_train, X_val, y_train, y_val = train_test_split(\n",
    "    X_temp, y_temp, test_size=rel_val, stratify=y_temp, random_state=42\n",
    ")"
   ]
  },
  {
   "cell_type": "code",
   "execution_count": 76,
   "metadata": {
    "colab": {
     "base_uri": "https://localhost:8080/"
    },
    "id": "Y0TWO3ec6Kbt",
    "outputId": "13b683b5-8e5f-4a6f-ce34-992427bf47fa"
   },
   "outputs": [
    {
     "name": "stdout",
     "output_type": "stream",
     "text": [
      "Fitting 5 folds for each of 81 candidates, totalling 405 fits\n",
      "Best params: {'rf__max_depth': None, 'rf__max_features': 'log2', 'rf__min_samples_leaf': 1, 'rf__n_estimators': 200}\n",
      "Best CV f1_macro: 0.7998905768676055\n",
      "              precision    recall  f1-score   support\n",
      "\n",
      "     healthy       0.84      0.85      0.85        62\n",
      "intermediate       0.78      0.79      0.78        62\n",
      "   unhealthy       0.88      0.81      0.84        26\n",
      "\n",
      "    accuracy                           0.82       150\n",
      "   macro avg       0.83      0.82      0.82       150\n",
      "weighted avg       0.82      0.82      0.82       150\n",
      "\n"
     ]
    }
   ],
   "source": [
    "from sklearn.pipeline import Pipeline\n",
    "from sklearn.feature_extraction.text import TfidfVectorizer\n",
    "from sklearn.ensemble import RandomForestClassifier\n",
    "from sklearn.model_selection import StratifiedKFold, GridSearchCV\n",
    "\n",
    "pipe = Pipeline([\n",
    "    (\"tfidf\", TfidfVectorizer(ngram_range=(1,2), min_df=3,\n",
    "                              token_pattern=r\"(?u)\\b\\w+\\b\")),\n",
    "    (\"rf\", RandomForestClassifier(random_state=42, n_jobs=-1))\n",
    "])\n",
    "\n",
    "param_grid = {\n",
    "    \"rf__n_estimators\": [200, 400, 600],\n",
    "    \"rf__max_depth\": [None, 20, 40],\n",
    "    \"rf__min_samples_leaf\": [1, 2, 4],\n",
    "    \"rf__max_features\": [\"sqrt\", \"log2\", None],\n",
    "}\n",
    "\n",
    "from sklearn.metrics import classification_report\n",
    "from sklearn.model_selection import StratifiedKFold\n",
    "\n",
    "cv = StratifiedKFold(n_splits=5, shuffle=True, random_state=42)\n",
    "\n",
    "grid = GridSearchCV(\n",
    "    pipe, param_grid, cv=cv,\n",
    "    scoring=\"f1_macro\",   # or \"f1_weighted\"\n",
    "    n_jobs=-1, verbose=1, error_score=\"raise\"\n",
    ")\n",
    "\n",
    "grid.fit(pd.concat([X_train, X_val]), pd.concat([y_train, y_val]))\n",
    "\n",
    "print(\"Best params:\", grid.best_params_)\n",
    "print(\"Best CV f1_macro:\", grid.best_score_)\n",
    "\n",
    "y_pred = grid.predict(X_test)\n",
    "print(classification_report(y_test, y_pred, zero_division=0))"
   ]
  },
  {
   "cell_type": "code",
   "execution_count": 77,
   "metadata": {},
   "outputs": [
    {
     "name": "stdout",
     "output_type": "stream",
     "text": [
      "Test Accuracy: 0.82\n",
      "Test F1 (macro): 0.824\n",
      "\n",
      "Classification Report:\n",
      "               precision    recall  f1-score   support\n",
      "\n",
      "     healthy       0.84      0.85      0.85        62\n",
      "intermediate       0.78      0.79      0.78        62\n",
      "   unhealthy       0.88      0.81      0.84        26\n",
      "\n",
      "    accuracy                           0.82       150\n",
      "   macro avg       0.83      0.82      0.82       150\n",
      "weighted avg       0.82      0.82      0.82       150\n",
      "\n"
     ]
    },
    {
     "data": {
      "image/png": "[encoded data removed]",
      "text/plain": [
       "<Figure size 550x450 with 1 Axes>"
      ]
     },
     "metadata": {},
     "output_type": "display_data"
    },
    {
     "data": {
      "image/png": "[encoded data removed]",
      "text/plain": [
       "<Figure size 550x450 with 2 Axes>"
      ]
     },
     "metadata": {},
     "output_type": "display_data"
    },
    {
     "name": "stdout",
     "output_type": "stream",
     "text": [
      "Saved figures to: C:\\Users\\nifft\\Downloads\\DS[4002] Project1\\OUTPUT\n"
     ]
    }
   ],
   "source": [
    "from sklearn.metrics import (\n",
    "    confusion_matrix, ConfusionMatrixDisplay,\n",
    "    classification_report, f1_score, accuracy_score\n",
    ")\n",
    "import matplotlib.pyplot as plt\n",
    "from pathlib import Path\n",
    "\n",
    "best_model = grid.best_estimator_\n",
    "y_pred = best_model.predict(X_test)\n",
    "\n",
    "# scores\n",
    "print(\"Test Accuracy:\", accuracy_score(y_test, y_pred))\n",
    "print(\"Test F1 (macro):\", f1_score(y_test, y_pred, average=\"macro\", zero_division=0))\n",
    "print(\"\\nClassification Report:\\n\", classification_report(y_test, y_pred, zero_division=0))\n",
    "\n",
    "# confusion matrix  (counts)\n",
    "labels = [\"healthy\", \"intermediate\", \"unhealthy\"]  # ensure consistent order\n",
    "cm = confusion_matrix(y_test, y_pred, labels=labels)\n",
    "\n",
    "fig, ax = plt.subplots(figsize=(5.5, 4.5))\n",
    "disp = ConfusionMatrixDisplay(cm, display_labels=labels)\n",
    "disp.plot(ax=ax, cmap=\"Blues\", values_format=\"d\", colorbar=False)\n",
    "ax.set_title(\"Confusion Matrix (Test)\")\n",
    "plt.tight_layout()\n",
    "\n",
    "# save file\n",
    "outdir = Path(\"../OUTPUT\"); outdir.mkdir(parents=True, exist_ok=True)\n",
    "fig.savefig(outdir / \"confusion_matrix_counts.png\", dpi=300, bbox_inches=\"tight\")\n",
    "plt.show()\n",
    "\n",
    "# Normalized confusion matrix \n",
    "cm_norm = confusion_matrix(y_test, y_pred, labels=labels, normalize=\"true\")  # rows sum to 1\n",
    "fig2, ax2 = plt.subplots(figsize=(5.5, 4.5))\n",
    "disp2 = ConfusionMatrixDisplay(cm_norm, display_labels=labels)\n",
    "disp2.plot(ax=ax2, cmap=\"Blues\", values_format=\".2f\", colorbar=True)\n",
    "ax2.set_title(\"Confusion Matrix (Normalized by True Class)\")\n",
    "plt.tight_layout()\n",
    "\n",
    "# save file\n",
    "fig2.savefig(outdir / \"confusion_matrix_normalized.png\", dpi=300, bbox_inches=\"tight\")\n",
    "plt.show()\n",
    "\n",
    "print(\"Saved figures to:\", outdir.resolve())\n"
   ]
  }
 ],
 "metadata": {
  "colab": {
   "provenance": []
  },
  "kernelspec": {
   "display_name": "Python [conda env:base] *",
   "language": "python",
   "name": "conda-base-py"
  },
  "language_info": {
   "codemirror_mode": {
    "name": "ipython",
    "version": 3
   },
   "file_extension": ".py",
   "mimetype": "text/x-python",
   "name": "python",
   "nbconvert_exporter": "python",
   "pygments_lexer": "ipython3",
   "version": "3.12.7"
  }
 },
 "nbformat": 4,
 "nbformat_minor": 4
}
